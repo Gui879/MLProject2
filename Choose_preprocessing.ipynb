{
 "cells": [
  {
   "cell_type": "code",
   "execution_count": 2,
   "metadata": {},
   "outputs": [],
   "source": [
    "import pandas as pd\n",
    "from data_loader import Dataset\n",
    "from data_preprocessing import Processor\n",
    "from feature_engineering import FeatureEngineer\n",
    "from gplearn_MLAA.genetic import SymbolicRegressor\n",
    "from sklearn.metrics import mean_squared_error, mean_absolute_error\n",
    "from gplearn_MLAA.Recorder import Recorder\n",
    "import seaborn as sb\n",
    "from sklearn.model_selection import GridSearchCV, cross_val_score\n",
    "from sklearn.pipeline import Pipeline\n",
    "import numpy as np\n"
   ]
  },
  {
   "cell_type": "code",
   "execution_count": 3,
   "metadata": {},
   "outputs": [],
   "source": [
    "#loading the data:\n",
    "data = pd.read_csv('Data//data.csv')\n",
    "data.drop('Unnamed: 0', axis  = 1, inplace = True)"
   ]
  },
  {
   "cell_type": "code",
   "execution_count": 6,
   "metadata": {},
   "outputs": [],
   "source": [
    "def z_score_outlier_detection(ds,numerical_var,treshold=3):\n",
    "    z_score_outliers={}\n",
    "    for var in numerical_var:\n",
    "        df=pd.Series(zscore(ds[var]))\n",
    "        df.index=ds.index\n",
    "        for ind in df[np.abs(df)>treshold].index:\n",
    "            try:\n",
    "                z_score_outliers[ind]=z_score_outliers[ind]+' '+var\n",
    "            except:\n",
    "                z_score_outliers[ind]=var\n",
    "    for key in z_score_outliers.keys(): z_score_outliers[key]=z_score_outliers[key].split(' ')\n",
    "    return z_score_outliers"
   ]
  },
  {
   "cell_type": "code",
   "execution_count": 5,
   "metadata": {},
   "outputs": [],
   "source": [
    "def uni_iqr_outlier_smoothing(self,DOAGO_results, ds):\n",
    "    '''use the info gatheres from the previous function (decide on and get outliers) and smoothes the detected outliers.'''\n",
    "    self.report.append('uni_iqr_outlier_smoothing')\n",
    "    novo_ds = ds.copy()\n",
    "    print(DOAGO_results)\n",
    "    for key in DOAGO_results.keys():\n",
    "        print(key)\n",
    "        for var in DOAGO_results[key]:\n",
    "            print(var)\n",
    "            if var != 'multi/unknown':\n",
    "                if ds[var][ds.index == key].values > np.mean(ds[var]):\n",
    "                    novo_ds[var][novo_ds.index == key] = np.percentile(ds[var], 75) + 1.5 * iqr(ds[var])\n",
    "\n",
    "                else:\n",
    "                    novo_ds[var][novo_ds.index == key] = np.percentile(ds[var], 25) - 1.5 * iqr(ds[var])\n",
    "            else: novo_ds=novo_ds[novo_ds.index!=key]\n",
    "\n",
    "    return novo_ds"
   ]
  },
  {
   "cell_type": "code",
   "execution_count": null,
   "metadata": {},
   "outputs": [],
   "source": [
    "def _impute_missing_values(training):\n",
    "    for column in self.training:\n",
    "        data = self.training[column]\n",
    "        loc, scale = norm.fit(data)\n",
    "        n = norm(loc = loc, scale = scale)\n",
    "        _, p_value = kstest(self.training[column].values, n.cdf)\n",
    "        if p_value > 0.05:\n",
    "            self._imputer = SimpleImputer(missing_values=np.nan, strategy='mean')\n",
    "            self.training[column] = self._imputer.fit_transform(self.training[column].values.reshape(-1,1))\n",
    "            self.unseen[column] = self._imputer.transform(self.unseen[column].values.reshape(-1,1))\n",
    "        else:\n",
    "            self._imputer = SimpleImputer(missing_values=np.nan, strategy='median')\n",
    "            self.training[column] = self._imputer.fit_transform(self.training[column].values.reshape(-1,1))\n",
    "            self.unseen[column] = self._imputer.transform(self.unseen[column].values.reshape(-1,1))"
   ]
  }
 ],
 "metadata": {
  "kernelspec": {
   "display_name": "Python 3",
   "language": "python",
   "name": "python3"
  },
  "language_info": {
   "codemirror_mode": {
    "name": "ipython",
    "version": 3
   },
   "file_extension": ".py",
   "mimetype": "text/x-python",
   "name": "python",
   "nbconvert_exporter": "python",
   "pygments_lexer": "ipython3",
   "version": "3.7.3"
  }
 },
 "nbformat": 4,
 "nbformat_minor": 2
}
